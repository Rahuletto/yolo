{
  "nbformat": 4,
  "nbformat_minor": 0,
  "metadata": {
    "colab": {
      "provenance": [],
      "authorship_tag": "ABX9TyPQYXMsvLciFGnodfbHwumm"
    },
    "kernelspec": {
      "name": "python3",
      "display_name": "Python 3"
    },
    "language_info": {
      "name": "python"
    }
  },
  "cells": [
    {
      "cell_type": "code",
      "execution_count": null,
      "metadata": {
        "id": "I7XutrBE8G_y"
      },
      "outputs": [],
      "source": [
        "import cv2\n",
        "from ultralytics import YOLO\n",
        "import numpy as np"
      ]
    },
    {
      "cell_type": "code",
      "source": [
        "# Load segmentation model\n",
        "modelSeg = YOLO(\"yolov8l-seg.pt\")"
      ],
      "metadata": {
        "id": "8oRyGjz09sqH"
      },
      "execution_count": null,
      "outputs": []
    },
    {
      "cell_type": "code",
      "source": [
        "def calcMask(result):\n",
        "    raw = result.masks[0].cpu().data.numpy().transpose(1, 2, 0)\n",
        "\n",
        "    rgb = cv2.merge((raw, raw, raw))\n",
        "    h2,w2, _ =result.orig_img.shape\n",
        "    mask = cv2.resize(rgb, (w2, h2))\n",
        "\n",
        "    mask = (mask * 255).astype(np.uint8)\n",
        "    mask = cv2.cvtColor(mask, cv2.COLOR_BGR2GRAY)\n",
        "    mask = cv2.GaussianBlur(mask, (5, 5), 0)\n",
        "\n",
        "    return mask"
      ],
      "metadata": {
        "id": "5ov6IUoT9tX7"
      },
      "execution_count": null,
      "outputs": []
    },
    {
      "cell_type": "code",
      "source": [
        "blur_ratio = 30\n",
        "\n",
        "def generateLayer(mask, im0):\n",
        "    _, binary_mask = cv2.threshold(mask, 1, 255, cv2.THRESH_BINARY)\n",
        "\n",
        "    bg_blur = cv2.blur(im0, (blur_ratio, blur_ratio))\n",
        "\n",
        "    inverse_mask = cv2.bitwise_not(binary_mask)\n",
        "\n",
        "    binary_mask = cv2.resize(binary_mask, (im0.shape[1], im0.shape[0]))\n",
        "\n",
        "    inverse_mask = cv2.resize(inverse_mask, (im0.shape[1], im0.shape[0]))\n",
        "\n",
        "    foreground = cv2.bitwise_and(im0, im0, mask=binary_mask)\n",
        "    background = cv2.bitwise_and(bg_blur, bg_blur, mask=inverse_mask)\n",
        "\n",
        "    return foreground, background\n",
        ""
      ],
      "metadata": {
        "id": "iqYZ77di9uFZ"
      },
      "execution_count": null,
      "outputs": []
    },
    {
      "cell_type": "code",
      "source": [
        "cap = cv2.VideoCapture(0)\n",
        "assert cap.isOpened(), \"Error reading video file\"\n",
        "w, h, fps = (int(cap.get(x)) for x in (cv2.CAP_PROP_FRAME_WIDTH, cv2.CAP_PROP_FRAME_HEIGHT, cv2.CAP_PROP_FPS))\n",
        "\n",
        "\n",
        "while cap.isOpened():\n",
        "    success, im0 = cap.read()\n",
        "    if not success:\n",
        "        print(\"Video frame is empty or video processing has been successfully completed.\")\n",
        "        break\n",
        "\n",
        "    results = modelSeg.predict(im0, device=\"mps\")\n",
        "\n",
        "    if results[0].masks is not None:\n",
        "        mask = calcMask(results[0])\n",
        "        foreground, background = generateLayer(mask, im0)\n",
        "\n",
        "        combined = cv2.addWeighted(foreground, 1, background, 1, 0)\n",
        "\n",
        "        cv2.imshow(\"Background blur\", combined)\n",
        "        if cv2.waitKey(1) & 0xFF == ord(\"q\"):\n",
        "            break\n",
        "\n",
        "cap.release()\n",
        "cv2.destroyAllWindows()"
      ],
      "metadata": {
        "id": "HgMaAgMT9u_Y"
      },
      "execution_count": null,
      "outputs": []
    }
  ]
}