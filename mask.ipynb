{
  "nbformat": 4,
  "nbformat_minor": 0,
  "metadata": {
    "colab": {
      "provenance": [],
      "authorship_tag": "ABX9TyMmnOzi1BQ4ZU6lFGlehTd0"
    },
    "kernelspec": {
      "name": "python3",
      "display_name": "Python 3"
    },
    "language_info": {
      "name": "python"
    }
  },
  "cells": [
    {
      "cell_type": "code",
      "execution_count": null,
      "metadata": {
        "id": "bqg98GqHziah"
      },
      "outputs": [],
      "source": [
        "import cv2\n",
        "from ultralytics import YOLO\n",
        "import numpy as np"
      ]
    },
    {
      "cell_type": "code",
      "source": [
        "# Load segmentation model\n",
        "modelSeg = YOLO(\"yolov8l-seg.pt\")\n"
      ],
      "metadata": {
        "id": "hdhzyptJzkUH"
      },
      "execution_count": null,
      "outputs": []
    },
    {
      "cell_type": "code",
      "source": [
        "def calcMask(result):\n",
        "    raw = result.masks[0].cpu().data.numpy().transpose(1, 2, 0)\n",
        "    rgb = cv2.merge((raw, raw, raw))\n",
        "    h2,w2, _ =result.orig_img.shape\n",
        "    mask = cv2.resize(rgb, (w2, h2))\n",
        "\n",
        "    masked = cv2.blur(mask, (10, 10))\n",
        "\n",
        "    lower_black = np.array([0,0,0])\n",
        "    upper_black = np.array([0,0,0])\n",
        "\n",
        "    mask = cv2.inRange(masked, lower_black, upper_black) # Smoothing the mask. replace masked to mask to have sharper mask\n",
        "    mask=cv2.bitwise_not(mask)\n",
        "    return mask"
      ],
      "metadata": {
        "id": "gBW3YtwnzlKx"
      },
      "execution_count": null,
      "outputs": []
    },
    {
      "cell_type": "code",
      "source": [
        "\n",
        "cap = cv2.VideoCapture(0)\n",
        "assert cap.isOpened(), \"Error reading video file\"\n",
        "\n",
        "while cap.isOpened():\n",
        "    success, im0 = cap.read()\n",
        "    if not success:\n",
        "        print(\"Video frame is empty or video processing has been successfully completed.\")\n",
        "        break\n",
        "\n",
        "    results=modelSeg.predict(im0, device=\"mps\")\n",
        "\n",
        "\n",
        "    if(results[0].masks is not None):\n",
        "        mask = calcMask(results[0])\n",
        "        cv2.imshow(\"mask\", mask)\n",
        "        if cv2.waitKey(1) & 0xFF == ord(\"q\"):\n",
        "            break\n",
        "\n",
        "cap.release()\n",
        "cv2.destroyAllWindows()"
      ],
      "metadata": {
        "id": "JLnK3xr06vO_"
      },
      "execution_count": null,
      "outputs": []
    }
  ]
}